{
  "nbformat": 4,
  "nbformat_minor": 0,
  "metadata": {
    "colab": {
      "provenance": [],
      "toc_visible": true
    },
    "kernelspec": {
      "name": "python3",
      "display_name": "Python 3"
    },
    "language_info": {
      "name": "python"
    }
  },
  "cells": [
    {
      "cell_type": "code",
      "execution_count": null,
      "metadata": {
        "id": "jxwK2vmkiKn2"
      },
      "outputs": [],
      "source": []
    },
    {
      "cell_type": "markdown",
      "source": [
        "## About\n",
        "  The United States allows individuals from other countries to enter the U.S. for employment, either on a short-term or long-term basis. These immigration-related employment programs are managed by the Office of Foreign Labor Certification (OFLC).\n",
        "\n"
      ],
      "metadata": {
        "id": "rcH9STxniNTN"
      }
    },
    {
      "cell_type": "markdown",
      "source": [
        "## 1) Problem statement\n",
        "\n",
        "\n",
        "*   OFLC handles job certification for hiring foreign workers in the U.S.\n",
        "\n",
        "*   Due to high application volume, a Machine Learning model is needed.\n",
        "\n",
        "*   The goal is to build a Classification Model.\n",
        "\n",
        "*   The model will predict visa approval or denial.\n",
        "\n",
        "*  It uses past data to learn decision patterns.\n",
        "\n",
        "*   It helps recommend suitable applicants based on important criteria.\n",
        "\n",
        "\n",
        "\n",
        "\n"
      ],
      "metadata": {
        "id": "2QLsunU6i5c3"
      }
    },
    {
      "cell_type": "markdown",
      "source": [
        "## 2) Data Collection\n",
        "\n",
        "\n",
        "*   The Dataset is part of Office of Foreign Labor Certification (OFLC)\n",
        "*   The data consists of 25480 Rows and 12 Columns\n",
        "\n",
        "[https://www.kaggle.com/datasets/moro23/easyvisa-dataset](https://www.kaggle.com/datasets/moro23/easyvisa-dataset)\n",
        "\n"
      ],
      "metadata": {
        "id": "Pn3MHxajjTeT"
      }
    },
    {
      "cell_type": "markdown",
      "source": [
        "### 2.1 Import Data and Required Packages\n"
      ],
      "metadata": {
        "id": "t8Y-tgDYjqZz"
      }
    },
    {
      "cell_type": "code",
      "source": [
        "import pandas as pd\n",
        "import numpy as np\n",
        "import matplotlib.pyplot as plt\n",
        "import seaborn as sns\n",
        "import plotly.express as px\n",
        "import warnings\n",
        "\n",
        "warnings.filterwarnings(\"ignore\")\n",
        "\n",
        "%matplotlib inline\n"
      ],
      "metadata": {
        "id": "uEAm3yDBidvN"
      },
      "execution_count": null,
      "outputs": []
    },
    {
      "cell_type": "markdown",
      "source": [
        "#### Import the CSV Data as Pandas DataFrame"
      ],
      "metadata": {
        "id": "JJvDsj-nmHD7"
      }
    },
    {
      "cell_type": "code",
      "source": [
        "df = read_csv(r\"Visadataset.csv\")"
      ],
      "metadata": {
        "id": "OmqVat8cmJKH"
      },
      "execution_count": null,
      "outputs": []
    }
  ]
}